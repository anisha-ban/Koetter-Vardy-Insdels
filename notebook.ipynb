{
 "cells": [
  {
   "cell_type": "code",
   "execution_count": 1,
   "id": "initial_id",
   "metadata": {
    "ExecuteTime": {
     "end_time": "2024-06-06T08:00:25.887173007Z",
     "start_time": "2024-06-06T08:00:25.545308258Z"
    }
   },
   "outputs": [],
   "source": [
    "import signal, auxiliary, channel_func, math, warnings, sys, os\n",
    "import threading, concurrent.futures\n",
    "import random as rm\n",
    "from threading import Lock\n",
    "\n",
    "from typing import Any, Dict, Optional\n",
    "from pathlib import Path\n",
    "import json\n",
    "import numpy as np\n",
    "from sage.all import log, infinity, RR, ZZ, next_prime\n",
    "from sage.graphs.generators.distance_regular import codes\n",
    "from sage.matrix.constructor import matrix\n",
    "from sage.modules.free_module_element import vector\n",
    "from sage.rings.finite_rings.finite_field_constructor import GF\n",
    "from sage.coding.guruswami_sudan.gs_decoder import roth_ruckenstein_root_finder\n",
    "\n",
    "from auxiliary import print_matrix_with_precision\n",
    "from kv_insdel import simulate_one_iteration"
   ]
  },
  {
   "cell_type": "code",
   "execution_count": 5,
   "id": "f5eba3b33efe4380",
   "metadata": {
    "ExecuteTime": {
     "end_time": "2024-06-06T08:00:35.266778942Z",
     "start_time": "2024-06-06T08:00:35.041644358Z"
    },
    "collapsed": false,
    "jupyter": {
     "outputs_hidden": false
    }
   },
   "outputs": [],
   "source": [
    "# RS code parameters\n",
    "q = 101\n",
    "n, k = 100, 33\n",
    "\n",
    "GF_q = GF(q, modulus='primitive')\n",
    "primitive_element = GF_q.gen()\n",
    "eval_pts = [primitive_element ** i for i in range(n)]\n",
    "assert n == len(set(eval_pts))\n",
    "eval_pts = np.random.permutation(eval_pts)\n",
    "\n",
    "# C is a primitive Reed-Solomon code with its evaluation points randomly permuted\n",
    "C = codes.GeneralizedReedSolomonCode(eval_pts, k)  # eval points, dimension\n",
    "code_param = auxiliary.CodeParams(q, n, k, eval_pts)"
   ]
  },
  {
   "cell_type": "code",
   "execution_count": 8,
   "id": "980378491a34236e",
   "metadata": {
    "ExecuteTime": {
     "end_time": "2024-06-06T08:48:13.309941235Z",
     "start_time": "2024-06-06T08:48:13.156601605Z"
    },
    "collapsed": false,
    "jupyter": {
     "outputs_hidden": false
    }
   },
   "outputs": [],
   "source": [
    "# ----------------- Choose decoding parameters -----------------------\n",
    "# Davey-MacKay channel parameters (insertion, deletion & substitution probabilities)\n",
    "Pi, Pd, Ps = 0.01, 0.01, 0.0\n",
    "channel_param = auxiliary.ChannelParams(Pi, Pd, Ps)\n",
    "\n",
    "# number of received sequences\n",
    "rM = 2\n",
    "\n",
    "# list size\n",
    "L = 5\n",
    "\n",
    "# set up decoding variables\n",
    "ti, td = round(ceil(Pi * n) * 1.8), round(ceil(Pd * n) * 1.8 )\n",
    "\n",
    "transmit_prob = channel_func.get_transmit_probabilities(q, n + 20, n, channel_param.pI, channel_param.pD)\n",
    "transmit_prob_rev = channel_func.get_transmit_probabilities(q, n + 20, n, channel_param.pI, channel_param.pD)\n",
    "\n",
    "term1_vec, term1_vec_rev = [], []\n",
    "for i in range(-td, ti + 1):\n",
    "    term1_vec.append(auxiliary.get_term_vector(q, n, n + i, Pi, Pd, transmit_prob))\n",
    "    term1_vec_rev.append(auxiliary.get_term_vector(q, n, n + i, Pi, Pd, transmit_prob_rev))\n",
    "\n"
   ]
  },
  {
   "cell_type": "code",
   "execution_count": 9,
   "id": "698ce21f-2a4c-4cc9-970b-b7e5a7382245",
   "metadata": {},
   "outputs": [
    {
     "name": "stdout",
     "output_type": "stream",
     "text": [
      "transmitted: [10, 38, 21, 8, 97, 41, 30, 6, 34, 63, 69, 49, 71, 98, 38, 61, 27, 53, 67, 66, 82, 25, 58, 44, 29, 58, 35, 78, 74, 72, 0, 32, 67, 43, 96, 35, 54, 46, 40, 3, 64, 83, 20, 81, 25, 28, 64, 99, 70, 70, 60, 82, 56, 7, 41, 70, 74, 82, 99, 61, 30, 23, 88, 70, 92, 3, 37, 35, 20, 48, 14, 34, 99, 19, 4, 70, 71, 15, 9, 16, 30, 27, 55, 61, 25, 38, 33, 70, 54, 32, 51, 46, 28, 32, 12, 26, 17, 18, 8, 49]\n",
      "received:\n",
      "(10, 38, 21, 8, 97, 30, 6, 34, 63, 69, 49, 71, 98, 38, 61, 27, 53, 67, 66, 82, 25, 58, 17, 44, 29, 58, 35, 78, 74, 72, 0, 32, 67, 43, 96, 35, 54, 46, 40, 3, 64, 83, 20, 81, 25, 28, 64, 99, 70, 70, 60, 82, 56, 7, 41, 70, 74, 82, 99, 61, 30, 23, 88, 70, 92, 3, 37, 35, 20, 48, 14, 34, 99, 19, 4, 70, 71, 15, 9, 16, 30, 27, 55, 61, 25, 38, 33, 70, 54, 32, 51, 46, 32, 12, 26, 17, 18, 8, 49)\n",
      "(10, 38, 21, 8, 97, 41, 30, 6, 34, 63, 69, 49, 71, 98, 38, 61, 27, 53, 67, 66, 82, 25, 58, 29, 58, 35, 78, 74, 72, 0, 32, 67, 43, 96, 35, 54, 46, 40, 3, 64, 83, 20, 81, 25, 28, 64, 99, 70, 70, 60, 82, 56, 7, 41, 70, 74, 82, 99, 61, 30, 23, 88, 70, 92, 3, 37, 35, 20, 48, 14, 34, 99, 19, 4, 70, 71, 15, 9, 16, 30, 27, 55, 61, 25, 38, 33, 70, 54, 32, 51, 46, 28, 32, 12, 26, 17, 18, 8, 49)\n",
      "KV decoder output:\n",
      "(10, 38, 21, 8, 97, 41, 30, 6, 34, 63, 69, 49, 71, 98, 38, 61, 27, 53, 67, 66, 82, 25, 58, 44, 29, 58, 35, 78, 74, 72, 0, 32, 67, 43, 96, 35, 54, 46, 40, 3, 64, 83, 20, 81, 25, 28, 64, 99, 70, 70, 60, 82, 56, 7, 41, 70, 74, 82, 99, 61, 30, 23, 88, 70, 92, 3, 37, 35, 20, 48, 14, 34, 99, 19, 4, 70, 71, 15, 9, 16, 30, 27, 55, 61, 25, 38, 33, 70, 54, 32, 51, 46, 28, 32, 12, 26, 17, 18, 8, 49)\n"
     ]
    },
    {
     "data": {
      "text/plain": [
       "{'numIterations': 1, 'frameErrors': 0, 'bitErrors': 0, 'erasures': 0}"
      ]
     },
     "execution_count": 9,
     "metadata": {},
     "output_type": "execute_result"
    }
   ],
   "source": [
    "simulate_one_iteration(code_param, channel_param, C, L, transmit_prob, transmit_prob_rev,\n",
    "                            term1_vec, term1_vec_rev, td, ti, rM)"
   ]
  }
 ],
 "metadata": {
  "kernelspec": {
   "display_name": "SageMath 9.5",
   "language": "sage",
   "name": "sagemath"
  },
  "language_info": {
   "codemirror_mode": {
    "name": "ipython",
    "version": 3
   },
   "file_extension": ".py",
   "mimetype": "text/x-python",
   "name": "python",
   "nbconvert_exporter": "python",
   "pygments_lexer": "ipython3",
   "version": "3.10.12"
  }
 },
 "nbformat": 4,
 "nbformat_minor": 5
}
